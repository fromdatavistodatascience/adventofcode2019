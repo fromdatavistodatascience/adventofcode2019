{
 "cells": [
  {
   "cell_type": "markdown",
   "metadata": {},
   "source": [
    "# Solution to puzzle 3"
   ]
  },
  {
   "cell_type": "code",
   "execution_count": null,
   "metadata": {},
   "outputs": [],
   "source": [
    "import pandas as pd\n",
    "import numpy as np"
   ]
  },
  {
   "cell_type": "code",
   "execution_count": null,
   "metadata": {},
   "outputs": [],
   "source": [
    "df = pd.read_csv('../inputs/puzzle3_input.csv')"
   ]
  },
  {
   "cell_type": "code",
   "execution_count": null,
   "metadata": {},
   "outputs": [],
   "source": [
    "wire1 = [val for val in df['wire1']]\n",
    "wire2 = [val for val in df['wire2']]"
   ]
  },
  {
   "cell_type": "markdown",
   "metadata": {},
   "source": [
    "## Part 3.1"
   ]
  },
  {
   "cell_type": "markdown",
   "metadata": {},
   "source": [
    "### What is the Manhattan distance from the central port to the closest intersection?"
   ]
  },
  {
   "cell_type": "code",
   "execution_count": null,
   "metadata": {},
   "outputs": [],
   "source": [
    "DX = {'U':0, 'D':0, 'R':1, 'L':-1}\n",
    "DY = {'U':1, 'D':-1, 'R':0, 'L':0}\n",
    "\n",
    "def get_points(A):\n",
    "    x = 0\n",
    "    y = 0\n",
    "    ans = set()\n",
    "    for point in A:\n",
    "        d = point[0]\n",
    "        n = int(point[1:])\n",
    "        assert d in ['U', 'D', 'R', 'L']\n",
    "        for _ in range(n):\n",
    "            x += DX[d]\n",
    "            y += DY[d]\n",
    "            ans.add((x,y))\n",
    "    return ans"
   ]
  },
  {
   "cell_type": "code",
   "execution_count": null,
   "metadata": {},
   "outputs": [],
   "source": [
    "PA = get_points(wire1)\n",
    "PB = get_points(wire2)\n",
    "both = PA&PB\n",
    "ans = min([abs(x) + abs(y) for (x,y) in both])"
   ]
  },
  {
   "cell_type": "code",
   "execution_count": null,
   "metadata": {
    "scrolled": true
   },
   "outputs": [],
   "source": [
    "ans"
   ]
  },
  {
   "cell_type": "markdown",
   "metadata": {},
   "source": [
    "## Part 3.2"
   ]
  },
  {
   "cell_type": "markdown",
   "metadata": {},
   "source": [
    "### What is the fewest combined steps the wires must take to reach an intersection?"
   ]
  },
  {
   "cell_type": "code",
   "execution_count": null,
   "metadata": {},
   "outputs": [],
   "source": [
    "DX = {'U':0, 'D':0, 'R':1, 'L':-1}\n",
    "DY = {'U':1, 'D':-1, 'R':0, 'L':0}\n",
    "\n",
    "def get_length(A):\n",
    "    x = 0\n",
    "    y = 0\n",
    "    length = 0\n",
    "    ans = {}\n",
    "    for point in A:\n",
    "        d = point[0]\n",
    "        n = int(point[1:])\n",
    "        assert d in ['U', 'D', 'R', 'L']\n",
    "        for _ in range(n):\n",
    "            x += DX[d]\n",
    "            y += DY[d]\n",
    "            length += 1\n",
    "            if (x, y) not in ans:\n",
    "                ans[(x, y)] = length\n",
    "    return ans"
   ]
  },
  {
   "cell_type": "code",
   "execution_count": null,
   "metadata": {},
   "outputs": [],
   "source": [
    "PA = get_length(wire1)\n",
    "PB = get_length(wire2)\n",
    "both = set(PA.keys())&set(PB.keys())\n",
    "ans = min([PA[p] + PB[p] for p in both])"
   ]
  },
  {
   "cell_type": "code",
   "execution_count": null,
   "metadata": {},
   "outputs": [],
   "source": [
    "ans"
   ]
  }
 ],
 "metadata": {
  "kernelspec": {
   "display_name": "Python 3",
   "language": "python",
   "name": "python3"
  },
  "language_info": {
   "codemirror_mode": {
    "name": "ipython",
    "version": 3
   },
   "file_extension": ".py",
   "mimetype": "text/x-python",
   "name": "python",
   "nbconvert_exporter": "python",
   "pygments_lexer": "ipython3",
   "version": "3.6.9"
  }
 },
 "nbformat": 4,
 "nbformat_minor": 2
}
