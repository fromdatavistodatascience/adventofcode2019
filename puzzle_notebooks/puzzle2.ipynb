{
 "cells": [
  {
   "cell_type": "markdown",
   "metadata": {},
   "source": [
    "# Solution to puzzle number 2"
   ]
  },
  {
   "cell_type": "code",
   "execution_count": null,
   "metadata": {},
   "outputs": [],
   "source": [
    "import pandas as pd\n",
    "import numpy as np"
   ]
  },
  {
   "cell_type": "code",
   "execution_count": null,
   "metadata": {},
   "outputs": [],
   "source": [
    "df = pd.read_csv('../inputs/puzzle3_input.csv')"
   ]
  },
  {
   "cell_type": "code",
   "execution_count": null,
   "metadata": {},
   "outputs": [],
   "source": [
    "list_df = [val for val in df['values']]"
   ]
  },
  {
   "cell_type": "markdown",
   "metadata": {},
   "source": [
    "*_Problem description:_* An Intcode program is a list of integers separated by commas (like 1,0,0,3,99). To run one, start by looking at the first integer (called position 0). Here, you will find an opcode - either 1, 2, or 99. The opcode indicates what to do; for example, 99 means that the program is finished and should immediately halt. Encountering an unknown opcode means something went wrong."
   ]
  },
  {
   "cell_type": "markdown",
   "metadata": {},
   "source": [
    "Rules:\n",
    "    - Opcode 1 adds together numbers read from two positions and stores the result in a third position.\n",
    "    - Opcode 2 works exactly like opcode 1, except it multiplies the two inputs instead of adding them.\n",
    "    - Once you're done processing an opcode, move to the next one by stepping forward 4 positions."
   ]
  },
  {
   "cell_type": "markdown",
   "metadata": {},
   "source": [
    "## Part 2.1"
   ]
  },
  {
   "cell_type": "markdown",
   "metadata": {},
   "source": [
    "### What value is left at position 0 after the program halts?"
   ]
  },
  {
   "cell_type": "code",
   "execution_count": null,
   "metadata": {},
   "outputs": [],
   "source": [
    "def intcodefunction(numbers, noun, verb):\n",
    "    \"Function that similates that of an Intcode program.\"\n",
    "    numbers[1] = noun\n",
    "    numbers[2] = verb\n",
    "    new_numbers = [num for num in numbers]\n",
    "    i = 0\n",
    "    while i < len(new_numbers):\n",
    "        if new_numbers[i] == 1:\n",
    "            second_item = new_numbers[i+1]\n",
    "            third_item = new_numbers[i+2]\n",
    "            position_item = new_numbers[i+3]\n",
    "            sum_of_second_and_third = new_numbers[second_item] + new_numbers[third_item]\n",
    "            new_numbers[position_item] = sum_of_second_and_third\n",
    "            i = i + 4\n",
    "        elif new_numbers[i] == 2:\n",
    "            second_item = new_numbers[i+1]\n",
    "            third_item = new_numbers[i+2]\n",
    "            position_item = new_numbers[i+3]\n",
    "            m_of_second_and_third = new_numbers[second_item] * new_numbers[third_item]\n",
    "            new_numbers[position_item] = m_of_second_and_third\n",
    "            i = i + 4\n",
    "        elif new_numbers[i] == 99:\n",
    "            break\n",
    "        else:\n",
    "            continue\n",
    "    #Return the first item after the code has run.\n",
    "    first_item = new_numbers[0]\n",
    "    return first_item"
   ]
  },
  {
   "cell_type": "code",
   "execution_count": null,
   "metadata": {
    "scrolled": true
   },
   "outputs": [],
   "source": [
    "# Before we run the code, replace position 1 with the value 12 and replace position 2 with the value 2.\n",
    "print(f'The value of the first item after it has run the code is {intcodefunction(list_df, 12, 2)}')"
   ]
  },
  {
   "cell_type": "markdown",
   "metadata": {},
   "source": [
    "## Part 2.2"
   ]
  },
  {
   "cell_type": "markdown",
   "metadata": {},
   "source": [
    "### Determine the pair of inputs that produce the output 19690720."
   ]
  },
  {
   "cell_type": "markdown",
   "metadata": {},
   "source": [
    "We are trying to identify which values of noun and verb derive the 19690720 output.\n",
    "\n",
    "    - Noun: Value after the instruction pointer\n",
    "    - Verb: Value after the noun"
   ]
  },
  {
   "cell_type": "code",
   "execution_count": null,
   "metadata": {},
   "outputs": [],
   "source": [
    "def find_ouput(numbers):\n",
    "    \"Function that determines the noun and verbs of a given intcode to produce a desired output.\"\n",
    "    for i in range(100):\n",
    "        for v in range(100):\n",
    "            if intcodefunction(numbers, i, v) == 19690720:\n",
    "                return (i, v)\n",
    "            else:\n",
    "                continue"
   ]
  },
  {
   "cell_type": "code",
   "execution_count": null,
   "metadata": {},
   "outputs": [],
   "source": [
    "find_ouput(list_df)"
   ]
  },
  {
   "cell_type": "markdown",
   "metadata": {},
   "source": [
    "### What is (100 * noun) + verb?"
   ]
  },
  {
   "cell_type": "code",
   "execution_count": null,
   "metadata": {},
   "outputs": [],
   "source": [
    "print(f\"\"\"It's {(100 * find_ouput(list_df)[0]) + find_ouput(list_df)[1]}\"\"\")"
   ]
  }
 ],
 "metadata": {
  "kernelspec": {
   "display_name": "Python 3",
   "language": "python",
   "name": "python3"
  },
  "language_info": {
   "codemirror_mode": {
    "name": "ipython",
    "version": 3
   },
   "file_extension": ".py",
   "mimetype": "text/x-python",
   "name": "python",
   "nbconvert_exporter": "python",
   "pygments_lexer": "ipython3",
   "version": "3.6.9"
  }
 },
 "nbformat": 4,
 "nbformat_minor": 2
}
