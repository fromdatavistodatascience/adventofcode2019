{
 "cells": [
  {
   "cell_type": "markdown",
   "metadata": {},
   "source": [
    "# Solution to puzzle 4"
   ]
  },
  {
   "cell_type": "code",
   "execution_count": null,
   "metadata": {},
   "outputs": [],
   "source": [
    "import pandas as pd\n",
    "import numpy as np"
   ]
  },
  {
   "cell_type": "markdown",
   "metadata": {},
   "source": [
    "## Puzzle 4.1"
   ]
  },
  {
   "cell_type": "markdown",
   "metadata": {},
   "source": [
    "### How many different passwords within the range given in your puzzle input meet these criteria?"
   ]
  },
  {
   "cell_type": "markdown",
   "metadata": {},
   "source": [
    "Rules: \n",
    "    - It is a six-digit number.\n",
    "    - The value is within the range given in your puzzle input.\n",
    "    - Two adjacent digits are the same (like 22 in 122345).\n",
    "    - Going from left to right, the digits never decrease; they only ever increase or stay the same (like 111123 or 135679)."
   ]
  },
  {
   "cell_type": "code",
   "execution_count": null,
   "metadata": {},
   "outputs": [],
   "source": [
    "def check_digit_decrease(num):\n",
    "    \"Function that iterates through a number to see if the next adjacent value is higher.\"\n",
    "    str_num = str(num)\n",
    "    passess = False\n",
    "    highest_num = int(str_num[0])\n",
    "    for i in range(1, len(str_num)):\n",
    "        current_num = int(str_num[i])\n",
    "        if current_num >= highest_num:\n",
    "            passess = True\n",
    "            highest_num = current_num\n",
    "        else:\n",
    "            passess = False\n",
    "            break\n",
    "    return passess"
   ]
  },
  {
   "cell_type": "code",
   "execution_count": null,
   "metadata": {},
   "outputs": [],
   "source": [
    "def check_two_digits_equal(num):\n",
    "    \"Function that iterates through a number to see if the next adjacent value is equal.\"\n",
    "    str_num = str(num)\n",
    "    passess = False\n",
    "    last_num = int(str_num[0])\n",
    "    for i in range(1, len(str_num)):\n",
    "        current_num = int(str_num[i])\n",
    "        if current_num == last_num:\n",
    "            passess = True\n",
    "            break\n",
    "        last_num = current_num\n",
    "    return passess"
   ]
  },
  {
   "cell_type": "code",
   "execution_count": null,
   "metadata": {},
   "outputs": [],
   "source": [
    "def password(bottom_limit, top_limit):\n",
    "    \"Find the number of passwords that could fit the criteria mentioned above.\"\n",
    "    passwords = []\n",
    "    for num in range(bottom_limit, top_limit):\n",
    "        passIncreasing = check_digit_decrease(num)\n",
    "        passEqual = check_two_digits_equal(num)\n",
    "        if (passIncreasing & passEqual):\n",
    "            passwords.append(num)\n",
    "    n_passwords = len(passwords)\n",
    "    return n_passwords"
   ]
  },
  {
   "cell_type": "code",
   "execution_count": null,
   "metadata": {
    "scrolled": true
   },
   "outputs": [],
   "source": [
    "password(153517, 630395)"
   ]
  },
  {
   "cell_type": "markdown",
   "metadata": {},
   "source": [
    "## Puzzle 4.2"
   ]
  },
  {
   "cell_type": "markdown",
   "metadata": {},
   "source": [
    "### With the new rule, how many different passwords within the range given in your puzzle input meet these criteria?"
   ]
  },
  {
   "cell_type": "markdown",
   "metadata": {},
   "source": [
    "New rule: \n",
    "    - The two adjacent matching digits are not part of a larger group of matching digits."
   ]
  },
  {
   "cell_type": "code",
   "execution_count": null,
   "metadata": {},
   "outputs": [],
   "source": [
    "def new_two_digits_rule(num):\n",
    "    \"\"\"Function that iterates through a number to see if the next adjacent value is equal, \n",
    "    however, the two numbers can't be part of a larger number (ie. 444 doesn't work, where as 2222 does).\"\"\"\n",
    "    str_num = str(num)\n",
    "    digitCount = 1\n",
    "    previous_num = int(str_num[0])\n",
    "    for i in range(1, len(str_num)):\n",
    "        current_num = int(str_num[i])\n",
    "        if current_num == previous_num:\n",
    "            digitCount += 1\n",
    "        else:\n",
    "            if digitCount == 2:\n",
    "                return True\n",
    "            digitCount = 1\n",
    "        previous_num = current_num\n",
    "    return digitCount == 2"
   ]
  },
  {
   "cell_type": "code",
   "execution_count": null,
   "metadata": {},
   "outputs": [],
   "source": [
    "def password_w_new_rule(bottom_limit, top_limit):\n",
    "    \"Find the number of passwords that could fit the criteria mentioned above.\"\n",
    "    passwords = []\n",
    "    for num in range(bottom_limit, top_limit):\n",
    "        passIncreasing = check_digit_decrease(num)\n",
    "        passEqual = new_two_digits_rule(num)\n",
    "        if (passIncreasing & passEqual):\n",
    "            passwords.append(num)\n",
    "    n_passwords = len(passwords)\n",
    "    return n_passwords"
   ]
  },
  {
   "cell_type": "code",
   "execution_count": null,
   "metadata": {},
   "outputs": [],
   "source": [
    "password_w_new_rule(153517,630395)"
   ]
  }
 ],
 "metadata": {
  "kernelspec": {
   "display_name": "Python 3",
   "language": "python",
   "name": "python3"
  },
  "language_info": {
   "codemirror_mode": {
    "name": "ipython",
    "version": 3
   },
   "file_extension": ".py",
   "mimetype": "text/x-python",
   "name": "python",
   "nbconvert_exporter": "python",
   "pygments_lexer": "ipython3",
   "version": "3.6.9"
  }
 },
 "nbformat": 4,
 "nbformat_minor": 2
}
