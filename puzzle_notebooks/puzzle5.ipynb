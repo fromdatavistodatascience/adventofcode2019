{
 "cells": [
  {
   "cell_type": "markdown",
   "metadata": {},
   "source": [
    "# Solution to puzzle number 5"
   ]
  },
  {
   "cell_type": "code",
   "execution_count": 25,
   "metadata": {},
   "outputs": [],
   "source": [
    "import pandas as pd\n",
    "import numpy as np"
   ]
  },
  {
   "cell_type": "code",
   "execution_count": 27,
   "metadata": {},
   "outputs": [],
   "source": [
    "data = pd.read_csv('../inputs/puzzle5_input.csv')"
   ]
  },
  {
   "cell_type": "code",
   "execution_count": 29,
   "metadata": {},
   "outputs": [],
   "source": [
    "data = [val for val in data.columns]"
   ]
  },
  {
   "cell_type": "code",
   "execution_count": 32,
   "metadata": {},
   "outputs": [
    {
     "data": {
      "text/plain": [
       "['3', '225', '1', '225.1', '6', '6.1', '1100', '1.1', '238', '225.2']"
      ]
     },
     "execution_count": 32,
     "metadata": {},
     "output_type": "execute_result"
    }
   ],
   "source": [
    "data[:10]"
   ]
  },
  {
   "cell_type": "markdown",
   "metadata": {},
   "source": [
    "## Part 5.1"
   ]
  },
  {
   "cell_type": "markdown",
   "metadata": {},
   "source": [
    "### After providing 1 to the only input instruction and passing all the tests, what diagnostic code does the program produce?"
   ]
  },
  {
   "cell_type": "markdown",
   "metadata": {},
   "source": [
    "More Rules:\n",
    "    - Opcode 3 takes a single integer as input and saves it to the position given by its only parameter.\n",
    "    - Opcode 4 outputs the value of its only parameter.\n",
    "    \n",
    "Functions now need to support the parameter mode 1 (Immediate mode):\n",
    "    - Immediate mode\n",
    "        - In immediate mode, a parameter is interpreted as a value - if the parameter is 50, its value is 50."
   ]
  },
  {
   "cell_type": "code",
   "execution_count": 33,
   "metadata": {},
   "outputs": [],
   "source": [
    "user_ID = 1"
   ]
  },
  {
   "cell_type": "code",
   "execution_count": null,
   "metadata": {},
   "outputs": [],
   "source": [
    "#def opcode_1(opcode):\n",
    "#    \"Function that performs the required operation when the opcode is 1.\"\n",
    "#    i = opcode"
   ]
  },
  {
   "cell_type": "code",
   "execution_count": 35,
   "metadata": {},
   "outputs": [],
   "source": [
    "numbers = 1002,4,3,4,33"
   ]
  },
  {
   "cell_type": "code",
   "execution_count": 61,
   "metadata": {},
   "outputs": [],
   "source": [
    "def opcode_instructions(i):\n",
    "    \"Function that breaks the opcode instructions into pieces\"\n",
    "    str_i = str(i)\n",
    "    l = len(str_i)\n",
    "    # Extract the opcodes and the position modes\n",
    "    if l <= 2:\n",
    "        opcode = str_i[-1]\n",
    "        p_modes = 0\n",
    "    elif l > 2:\n",
    "        opcode = str_i[-2:]\n",
    "        p_modes = [val for val in str_i[:-2]]\n",
    "    else:\n",
    "        pass\n",
    "    int_opcode = int(opcode)\n",
    "    return int_opcode, p_modes"
   ]
  },
  {
   "cell_type": "code",
   "execution_count": 68,
   "metadata": {},
   "outputs": [
    {
     "ename": "SyntaxError",
     "evalue": "invalid syntax (<ipython-input-68-40645625f4d9>, line 5)",
     "output_type": "error",
     "traceback": [
      "\u001b[0;36m  File \u001b[0;32m\"<ipython-input-68-40645625f4d9>\"\u001b[0;36m, line \u001b[0;32m5\u001b[0m\n\u001b[0;31m    print(p_mode_{n})\u001b[0m\n\u001b[0m                 ^\u001b[0m\n\u001b[0;31mSyntaxError\u001b[0m\u001b[0;31m:\u001b[0m invalid syntax\n"
     ]
    }
   ],
   "source": [
    "def extract_p_modes(p_mode):\n",
    "    \"Function that extracts the p_modes\"\n",
    "    if \n",
    "    for n, val in enumerate(p_mode):\n",
    "        p_mode_number = n\n",
    "        p_mode_value = val\n",
    "    return 1"
   ]
  },
  {
   "cell_type": "code",
   "execution_count": null,
   "metadata": {},
   "outputs": [],
   "source": []
  },
  {
   "cell_type": "code",
   "execution_count": 62,
   "metadata": {
    "scrolled": false
   },
   "outputs": [
    {
     "data": {
      "text/plain": [
       "(2, ['1'])"
      ]
     },
     "execution_count": 62,
     "metadata": {},
     "output_type": "execute_result"
    }
   ],
   "source": [
    "opcode_instructions(102)"
   ]
  },
  {
   "cell_type": "code",
   "execution_count": null,
   "metadata": {},
   "outputs": [],
   "source": [
    "# from puzzle n2 copy the intcode function\n",
    "\n",
    "def modifiedintcodefunction(numbers, input_value):\n",
    "    \"Function that similates that of an Intcode program but takes into account extra information.\"\n",
    "    new_numbers = [num for num in numbers]\n",
    "    i = 0\n",
    "    output_values = []\n",
    "    while i < len(new_numbers):\n",
    "        opcode, p_modes = opcode_instructions(new_numbers[i])\n",
    "        for x in \n",
    "        p_mode_1 = p_modes[1]\n",
    "        p_mode_2 = p_modes[2]\n",
    "        p_mode_3 = p_modes[3]\n",
    "        \n",
    "        \n",
    "        for x in range(len(p_modes)):\n",
    "            p_mode_{x} = p_modes[x]\n",
    "        \n",
    "        \n",
    "        \n",
    "        \n",
    "        \n",
    "        if new_numbers[i] == 1:\n",
    "            second_item = new_numbers[i+1]\n",
    "            third_item = new_numbers[i+2]\n",
    "            position_item = new_numbers[i+3]\n",
    "            sum_of_second_and_third = new_numbers[second_item] + new_numbers[third_item]\n",
    "            new_numbers[position_item] = sum_of_second_and_third\n",
    "            i = i + 4\n",
    "        elif new_numbers[i] == 2:\n",
    "            second_item = new_numbers[i+1]\n",
    "            third_item = new_numbers[i+2]\n",
    "            position_item = new_numbers[i+3]\n",
    "            m_of_second_and_third = new_numbers[second_item] * new_numbers[third_item]\n",
    "            new_numbers[position_item] = m_of_second_and_third\n",
    "            i = i + 4\n",
    "        elif new_numbers[i] == 3:\n",
    "            val = input_value\n",
    "            second_item = new_numbers[i+1]\n",
    "            new_numbers[second_item] = val\n",
    "            i = i + 2\n",
    "        elif new_numbers[i] == 4:\n",
    "            output_values.append(new_numbers[i+1])\n",
    "            i = i + 2\n",
    "        elif new_numbers[i] == 99:\n",
    "            break\n",
    "        else:\n",
    "            continue\n",
    "    #Return the first item after the code has run.\n",
    "    first_item = new_numbers[0]\n",
    "    return first_item"
   ]
  }
 ],
 "metadata": {
  "kernelspec": {
   "display_name": "Python 3",
   "language": "python",
   "name": "python3"
  },
  "language_info": {
   "codemirror_mode": {
    "name": "ipython",
    "version": 3
   },
   "file_extension": ".py",
   "mimetype": "text/x-python",
   "name": "python",
   "nbconvert_exporter": "python",
   "pygments_lexer": "ipython3",
   "version": "3.6.9"
  }
 },
 "nbformat": 4,
 "nbformat_minor": 2
}
