{
 "cells": [
  {
   "cell_type": "markdown",
   "metadata": {},
   "source": [
    "# Solution to puzzle number 5"
   ]
  },
  {
   "cell_type": "code",
   "execution_count": 1,
   "metadata": {},
   "outputs": [],
   "source": [
    "import pandas as pd\n",
    "import numpy as np"
   ]
  },
  {
   "cell_type": "code",
   "execution_count": 2,
   "metadata": {},
   "outputs": [],
   "source": [
    "data = pd.read_csv('../inputs/puzzle5_input.csv')"
   ]
  },
  {
   "cell_type": "code",
   "execution_count": 3,
   "metadata": {},
   "outputs": [],
   "source": [
    "data = [val for val in data.columns]"
   ]
  },
  {
   "cell_type": "code",
   "execution_count": 4,
   "metadata": {},
   "outputs": [
    {
     "data": {
      "text/plain": [
       "['3', '225', '1', '225.1', '6', '6.1', '1100', '1.1', '238', '225.2']"
      ]
     },
     "execution_count": 4,
     "metadata": {},
     "output_type": "execute_result"
    }
   ],
   "source": [
    "data[:10]"
   ]
  },
  {
   "cell_type": "markdown",
   "metadata": {},
   "source": [
    "## Part 5.1"
   ]
  },
  {
   "cell_type": "markdown",
   "metadata": {},
   "source": [
    "### After providing 1 to the only input instruction and passing all the tests, what diagnostic code does the program produce?"
   ]
  },
  {
   "cell_type": "markdown",
   "metadata": {},
   "source": [
    "More Rules:\n",
    "    - Opcode 3 takes a single integer as input and saves it to the position given by its only parameter.\n",
    "    - Opcode 4 outputs the value of its only parameter.\n",
    "    \n",
    "Functions now need to support the parameter mode 1 (Immediate mode):\n",
    "    - Immediate mode\n",
    "        - In immediate mode, a parameter is interpreted as a value - if the parameter is 50, its value is 50."
   ]
  },
  {
   "cell_type": "code",
   "execution_count": 5,
   "metadata": {},
   "outputs": [],
   "source": [
    "user_ID = 1"
   ]
  },
  {
   "cell_type": "code",
   "execution_count": 6,
   "metadata": {},
   "outputs": [],
   "source": [
    "numbers = 1002,4,3,4,33"
   ]
  },
  {
   "cell_type": "code",
   "execution_count": 23,
   "metadata": {},
   "outputs": [],
   "source": [
    "def opcode_instructions(intcode):\n",
    "    \"Function that breaks the opcode instructions into pieces\"\n",
    "    str_intcode = str(intcode)\n",
    "    opcode = str_intcode[-2:]\n",
    "    int_opcode = int(opcode)\n",
    "    return int_opcode"
   ]
  },
  {
   "cell_type": "code",
   "execution_count": 31,
   "metadata": {},
   "outputs": [],
   "source": [
    "def extract_p_modes(intcode):\n",
    "    \"Function that extracts the p_modes\"\n",
    "    str_p_modes = str(intcode)\n",
    "    p_modes_dic = {}\n",
    "    for n, val in enumerate(str_p_modes[:-2]):\n",
    "        p_modes_dic[f'p_mode_{n+1}'] = val\n",
    "    return p_modes_dic"
   ]
  },
  {
   "cell_type": "code",
   "execution_count": null,
   "metadata": {},
   "outputs": [],
   "source": [
    "def opcode_1(i, new_numbers, p_modes):\n",
    "    \"Function that adds together numbers read from two positions and stores the result in a third position\"\n",
    "    second_item = new_numbers[i+1]\n",
    "    third_item = new_numbers[i+2]\n",
    "    position_item = new_numbers[i+3]\n",
    "    if (p_modes[0] == 0) & (p_modes[1] == 0):\n",
    "        sum_of_second_and_third = new_numbers[second_item] + new_numbers[third_item]\n",
    "    elif (p_modes[0] == 1) & (p_modes[1] == 0):\n",
    "        sum_of_second_and_third = second_item + new_numbers[third_item]\n",
    "    elif (p_modes[0] == 0) & (p_modes[1] == 1):\n",
    "        sum_of_second_and_third = new_numbers[second_item] + third_item\n",
    "    else:\n",
    "        sum_of_second_and_third = second_item + third_item\n",
    "    new_numbers[position_item] = sum_of_second_and_third\n",
    "    return new_numbers"
   ]
  },
  {
   "cell_type": "code",
   "execution_count": null,
   "metadata": {},
   "outputs": [],
   "source": [
    "def opcode_2(i, new_numbers, p_modes):\n",
    "    \"Function that multiplies together numbers read from two positions and stores the result in a third position\"\n",
    "    second_item = new_numbers[i+1]\n",
    "    third_item = new_numbers[i+2]\n",
    "    position_item = new_numbers[i+3]\n",
    "    if (p_modes[0] == 0) & (p_modes[1] == 0):\n",
    "        m_of_second_and_third = new_numbers[second_item] * new_numbers[third_item]\n",
    "    elif (p_modes[0] == 1) & (p_modes[1] == 0):\n",
    "        m_of_second_and_third = second_item * new_numbers[third_item]\n",
    "    elif (p_modes[0] == 0) & (p_modes[1] == 1):\n",
    "        m_of_second_and_third = new_numbers[second_item] * third_item\n",
    "    else:\n",
    "        m_of_second_and_third = second_item * third_item\n",
    "    new_numbers[position_item] = m_of_second_and_third\n",
    "    return new_numbers"
   ]
  },
  {
   "cell_type": "code",
   "execution_count": null,
   "metadata": {},
   "outputs": [],
   "source": [
    "def opcode_3(i, new_numbers, inpt):\n",
    "    \"Function takes a single integer as input and saves it to the position given by its only parameter\"\n",
    "    val = input_value\n",
    "    second_item = new_numbers[i+1]\n",
    "    new_numbers[second_item] = val\n",
    "    return new_numbers"
   ]
  },
  {
   "cell_type": "code",
   "execution_count": null,
   "metadata": {},
   "outputs": [],
   "source": [
    "# from puzzle n2 copy the intcode function\n",
    "\n",
    "def modifiedintcodefunction(numbers, input_value):\n",
    "    \"Function that similates that of an Intcode program but takes into account extra information.\"\n",
    "    new_numbers = [num for num in numbers]\n",
    "    i = 0\n",
    "    output_values = []\n",
    "    while i < len(new_numbers):\n",
    "        opcode = opcode_instructions(new_numbers[i])\n",
    "        p_modes = extract_p_modes(new_numbers[i])\n",
    "        if new_numbers[i] == 1:\n",
    "            new_numbers = opcode_1(i, new_numbers, p_modes)\n",
    "            i = i + 4\n",
    "        elif new_numbers[i] == 2:\n",
    "            new_numbers = opcode_2(i, new_numbers, p_modes)\n",
    "            i = i + 4\n",
    "        elif new_numbers[i] == 3:\n",
    "            new_numbers = opcode_3(i, new_numbers, inpt)\n",
    "            i = i + 2\n",
    "        elif new_numbers[i] == 4:\n",
    "            output_values.append(new_numbers[i+1])\n",
    "            i = i + 2\n",
    "        elif new_numbers[i] == 99:\n",
    "            break\n",
    "        else:\n",
    "            continue\n",
    "    #Return the first item after the code has run.\n",
    "    first_item = new_numbers[0]\n",
    "    return first_item"
   ]
  }
 ],
 "metadata": {
  "kernelspec": {
   "display_name": "Python 3",
   "language": "python",
   "name": "python3"
  },
  "language_info": {
   "codemirror_mode": {
    "name": "ipython",
    "version": 3
   },
   "file_extension": ".py",
   "mimetype": "text/x-python",
   "name": "python",
   "nbconvert_exporter": "python",
   "pygments_lexer": "ipython3",
   "version": "3.6.9"
  }
 },
 "nbformat": 4,
 "nbformat_minor": 2
}
