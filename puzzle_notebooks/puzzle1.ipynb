{
 "cells": [
  {
   "cell_type": "markdown",
   "metadata": {},
   "source": [
    "# Code to solve puzzle 1"
   ]
  },
  {
   "cell_type": "code",
   "execution_count": null,
   "metadata": {},
   "outputs": [],
   "source": [
    "import pandas as pd\n",
    "import numpy as np\n",
    "import math"
   ]
  },
  {
   "cell_type": "code",
   "execution_count": null,
   "metadata": {
    "scrolled": true
   },
   "outputs": [],
   "source": [
    "# Import the input data.\n",
    "df = pd.read_csv('puzzle1_input.csv')"
   ]
  },
  {
   "cell_type": "code",
   "execution_count": null,
   "metadata": {},
   "outputs": [],
   "source": [
    "# Create a list from the data\n",
    "puzzle1_data = [data for data in df['module_entries']]"
   ]
  },
  {
   "cell_type": "code",
   "execution_count": null,
   "metadata": {},
   "outputs": [],
   "source": [
    "puzzle1_data[:2]"
   ]
  },
  {
   "cell_type": "markdown",
   "metadata": {},
   "source": [
    "## Part 1.1"
   ]
  },
  {
   "cell_type": "markdown",
   "metadata": {},
   "source": [
    "### Question: What is the sum of fuel requirements for all the modules in our spacecraft?"
   ]
  },
  {
   "cell_type": "code",
   "execution_count": null,
   "metadata": {},
   "outputs": [],
   "source": [
    "# Function to calculate the fuel requirements.\n",
    "\n",
    "def fuel_requirements(modules):\n",
    "    \"\"\"Function to calculate the fuel requirements to decide whether to launch or not to launch a spacecraft.\"\"\"\n",
    "    fuel_requirement = 0\n",
    "    for module in modules:\n",
    "        calc = math.floor(int(module)/3) - 2\n",
    "        fuel_requirement += calc\n",
    "    return fuel_requirement"
   ]
  },
  {
   "cell_type": "code",
   "execution_count": null,
   "metadata": {},
   "outputs": [],
   "source": [
    "print(f'The sum of fuel requirements for all the modules in our spacecraft is {fuel_requirements(puzzle1_data)}')"
   ]
  },
  {
   "cell_type": "markdown",
   "metadata": {},
   "source": [
    "## Part 1.2"
   ]
  },
  {
   "cell_type": "markdown",
   "metadata": {},
   "source": [
    "### Question: What is the sum of the fuel requirements for all of the modules on your spacecraft when also taking into account the mass of the added fuel?"
   ]
  },
  {
   "cell_type": "code",
   "execution_count": null,
   "metadata": {},
   "outputs": [],
   "source": [
    "# Function to calculate the mass of the added fuel\n",
    "\n",
    "def fuel_mass(modules):\n",
    "    \"\"\"Function to calculate the fuel mass that arises from each module.\"\"\"\n",
    "    fuel_mass_total = 0\n",
    "    for module in modules:\n",
    "        calc = math.floor(int(module)/3) - 2\n",
    "        fuel_mass = 0\n",
    "        while calc > 6:\n",
    "            fuel = math.floor(calc/3) - 2\n",
    "            fuel_mass += fuel\n",
    "            calc = fuel\n",
    "        fuel_mass_total += fuel_mass\n",
    "    return fuel_mass_total"
   ]
  },
  {
   "cell_type": "code",
   "execution_count": null,
   "metadata": {},
   "outputs": [],
   "source": [
    "print(f\"\"\"The sum of fuel requirements for all the modules in our spacecraft and the mass of the added fuel\n",
    "      is {fuel_requirements(puzzle1_data) + fuel_mass(puzzle1_data)}\"\"\")"
   ]
  }
 ],
 "metadata": {
  "kernelspec": {
   "display_name": "Python 3",
   "language": "python",
   "name": "python3"
  },
  "language_info": {
   "codemirror_mode": {
    "name": "ipython",
    "version": 3
   },
   "file_extension": ".py",
   "mimetype": "text/x-python",
   "name": "python",
   "nbconvert_exporter": "python",
   "pygments_lexer": "ipython3",
   "version": "3.6.9"
  }
 },
 "nbformat": 4,
 "nbformat_minor": 2
}
